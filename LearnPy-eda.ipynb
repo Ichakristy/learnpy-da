{
 "cells": [
  {
   "cell_type": "markdown",
   "metadata": {
    "toc": true
   },
   "source": [
    "<h1>Table of Contents<span class=\"tocSkip\"></span></h1>\n",
    "<div class=\"toc\"><ul class=\"toc-item\"><li><span><a href=\"#Cek-Working-Directory\" data-toc-modified-id=\"Cek-Working-Directory-1\"><span class=\"toc-item-num\">1&nbsp;&nbsp;</span>Cek Working Directory</a></span></li><li><span><a href=\"#Exploratory-Data-Analysis\" data-toc-modified-id=\"Exploratory-Data-Analysis-2\"><span class=\"toc-item-num\">2&nbsp;&nbsp;</span>Exploratory Data Analysis</a></span></li><li><span><a href=\"#Tipe-Data-Categoric\" data-toc-modified-id=\"Tipe-Data-Categoric-3\"><span class=\"toc-item-num\">3&nbsp;&nbsp;</span>Tipe Data Categoric</a></span><ul class=\"toc-item\"><li><span><a href=\"#Mengubah-nama-kategori\" data-toc-modified-id=\"Mengubah-nama-kategori-3.1\"><span class=\"toc-item-num\">3.1&nbsp;&nbsp;</span>Mengubah nama kategori</a></span></li><li><span><a href=\"#Mengurutkan-kategori\" data-toc-modified-id=\"Mengurutkan-kategori-3.2\"><span class=\"toc-item-num\">3.2&nbsp;&nbsp;</span>Mengurutkan kategori</a></span></li><li><span><a href=\"#Menambahkan-kategori-baru\" data-toc-modified-id=\"Menambahkan-kategori-baru-3.3\"><span class=\"toc-item-num\">3.3&nbsp;&nbsp;</span>Menambahkan kategori baru</a></span></li><li><span><a href=\"#Menghapus-kategori-yang-ada\" data-toc-modified-id=\"Menghapus-kategori-yang-ada-3.4\"><span class=\"toc-item-num\">3.4&nbsp;&nbsp;</span>Menghapus kategori yang ada</a></span></li><li><span><a href=\"#Menghapus-kategori-yang-tidak-diperlukan\" data-toc-modified-id=\"Menghapus-kategori-yang-tidak-diperlukan-3.5\"><span class=\"toc-item-num\">3.5&nbsp;&nbsp;</span>Menghapus kategori yang tidak diperlukan</a></span></li></ul></li><li><span><a href=\"#Tipe-Data-Datetime\" data-toc-modified-id=\"Tipe-Data-Datetime-4\"><span class=\"toc-item-num\">4&nbsp;&nbsp;</span>Tipe Data Datetime</a></span><ul class=\"toc-item\"><li><span><a href=\"#Quiz-2\" data-toc-modified-id=\"Quiz-2-4.1\"><span class=\"toc-item-num\">4.1&nbsp;&nbsp;</span>Quiz 2</a></span></li></ul></li></ul></div>"
   ]
  },
  {
   "cell_type": "markdown",
   "metadata": {},
   "source": [
    "# Cek Working Directory"
   ]
  },
  {
   "cell_type": "markdown",
   "metadata": {},
   "source": [
    "Hi *future Data Analyst*!! Terkadang kita ingin mengetahui working directory yang kita gunakan untuk notebook yang sedang aktif ada dimana. Disini kita bisa memanfaatkan module `os` untuk membantu kita mengetahui dimana working directory kita. Berikut ini [link](https://note.nkmk.me/en/python-os-getcwd-chdir/) yang bisa digunakan sebagai acuan untuk mengetahui working directory yang sedang aktif dan cara mengganti working directory dengan module `os`."
   ]
  },
  {
   "cell_type": "code",
   "execution_count": 15,
   "metadata": {},
   "outputs": [
    {
     "data": {
      "text/plain": [
       "'C:\\\\Users\\\\ASUS\\\\Inayatus\\\\Extract File Buat Belajar\\\\dataanalysis\\\\learnpy-p4da'"
      ]
     },
     "execution_count": 15,
     "metadata": {},
     "output_type": "execute_result"
    }
   ],
   "source": [
    "import os\n",
    "os.getcwd()"
   ]
  },
  {
   "cell_type": "code",
   "execution_count": null,
   "metadata": {},
   "outputs": [],
   "source": [
    "# change working directory\n",
    "# os.chdir()"
   ]
  },
  {
   "cell_type": "markdown",
   "metadata": {},
   "source": [
    "# Exploratory Data Analysis"
   ]
  },
  {
   "cell_type": "markdown",
   "metadata": {},
   "source": [
    "Pada notebook sebelumnya, kita pernah mempelajari beberapa cara untuk melakukan eksplorasi data. Beberapa method dan atibut yang bisa kita gunakan dalam melakukan eksplorasi data yaitu :\n",
    "- `.head()` dan `.tail()`\n",
    "- `.decribe()`\n",
    "- `.dtypes`\n",
    "- `.info()`\n",
    "- `.shape` dan `.size`\n",
    "- `.axes[]`\n",
    "\n",
    "Pada part kali ini, kita akan membahas tentang explorasi data mengenai :\n",
    "- tipe data `datetime`\n",
    "- tipe data `categoric`\n",
    "- table\n",
    "- cross-tabulation\n",
    "- pivot table\n",
    "- agregasi data"
   ]
  },
  {
   "cell_type": "code",
   "execution_count": 1,
   "metadata": {},
   "outputs": [],
   "source": [
    "import pandas as pd\n",
    "import numpy as np"
   ]
  },
  {
   "cell_type": "code",
   "execution_count": 2,
   "metadata": {},
   "outputs": [
    {
     "data": {
      "text/html": [
       "<div>\n",
       "<style scoped>\n",
       "    .dataframe tbody tr th:only-of-type {\n",
       "        vertical-align: middle;\n",
       "    }\n",
       "\n",
       "    .dataframe tbody tr th {\n",
       "        vertical-align: top;\n",
       "    }\n",
       "\n",
       "    .dataframe thead th {\n",
       "        text-align: right;\n",
       "    }\n",
       "</style>\n",
       "<table border=\"1\" class=\"dataframe\">\n",
       "  <thead>\n",
       "    <tr style=\"text-align: right;\">\n",
       "      <th></th>\n",
       "      <th>InvoiceNo</th>\n",
       "      <th>StockCode</th>\n",
       "      <th>Description</th>\n",
       "      <th>Quantity</th>\n",
       "      <th>InvoiceDate</th>\n",
       "      <th>UnitPrice</th>\n",
       "      <th>CustomerID</th>\n",
       "      <th>Country</th>\n",
       "    </tr>\n",
       "  </thead>\n",
       "  <tbody>\n",
       "    <tr>\n",
       "      <th>0</th>\n",
       "      <td>536365</td>\n",
       "      <td>85123A</td>\n",
       "      <td>WHITE HANGING HEART T-LIGHT HOLDER</td>\n",
       "      <td>6</td>\n",
       "      <td>2010-12-01 08:26:00</td>\n",
       "      <td>2.55</td>\n",
       "      <td>17850.0</td>\n",
       "      <td>United Kingdom</td>\n",
       "    </tr>\n",
       "    <tr>\n",
       "      <th>1</th>\n",
       "      <td>536365</td>\n",
       "      <td>71053</td>\n",
       "      <td>WHITE METAL LANTERN</td>\n",
       "      <td>6</td>\n",
       "      <td>2010-12-01 08:26:00</td>\n",
       "      <td>3.39</td>\n",
       "      <td>17850.0</td>\n",
       "      <td>United Kingdom</td>\n",
       "    </tr>\n",
       "    <tr>\n",
       "      <th>2</th>\n",
       "      <td>536365</td>\n",
       "      <td>84406B</td>\n",
       "      <td>CREAM CUPID HEARTS COAT HANGER</td>\n",
       "      <td>8</td>\n",
       "      <td>2010-12-01 08:26:00</td>\n",
       "      <td>2.75</td>\n",
       "      <td>17850.0</td>\n",
       "      <td>United Kingdom</td>\n",
       "    </tr>\n",
       "    <tr>\n",
       "      <th>3</th>\n",
       "      <td>536365</td>\n",
       "      <td>84029G</td>\n",
       "      <td>KNITTED UNION FLAG HOT WATER BOTTLE</td>\n",
       "      <td>6</td>\n",
       "      <td>2010-12-01 08:26:00</td>\n",
       "      <td>3.39</td>\n",
       "      <td>17850.0</td>\n",
       "      <td>United Kingdom</td>\n",
       "    </tr>\n",
       "    <tr>\n",
       "      <th>4</th>\n",
       "      <td>536365</td>\n",
       "      <td>84029E</td>\n",
       "      <td>RED WOOLLY HOTTIE WHITE HEART.</td>\n",
       "      <td>6</td>\n",
       "      <td>2010-12-01 08:26:00</td>\n",
       "      <td>3.39</td>\n",
       "      <td>17850.0</td>\n",
       "      <td>United Kingdom</td>\n",
       "    </tr>\n",
       "  </tbody>\n",
       "</table>\n",
       "</div>"
      ],
      "text/plain": [
       "  InvoiceNo StockCode                          Description  Quantity  \\\n",
       "0    536365    85123A   WHITE HANGING HEART T-LIGHT HOLDER         6   \n",
       "1    536365     71053                  WHITE METAL LANTERN         6   \n",
       "2    536365    84406B       CREAM CUPID HEARTS COAT HANGER         8   \n",
       "3    536365    84029G  KNITTED UNION FLAG HOT WATER BOTTLE         6   \n",
       "4    536365    84029E       RED WOOLLY HOTTIE WHITE HEART.         6   \n",
       "\n",
       "           InvoiceDate  UnitPrice  CustomerID         Country  \n",
       "0  2010-12-01 08:26:00       2.55     17850.0  United Kingdom  \n",
       "1  2010-12-01 08:26:00       3.39     17850.0  United Kingdom  \n",
       "2  2010-12-01 08:26:00       2.75     17850.0  United Kingdom  \n",
       "3  2010-12-01 08:26:00       3.39     17850.0  United Kingdom  \n",
       "4  2010-12-01 08:26:00       3.39     17850.0  United Kingdom  "
      ]
     },
     "execution_count": 2,
     "metadata": {},
     "output_type": "execute_result"
    }
   ],
   "source": [
    "online = pd.read_csv(\"data_input/online-retail.csv\", encoding='unicode_escape')\n",
    "online.head()"
   ]
  },
  {
   "cell_type": "code",
   "execution_count": 24,
   "metadata": {
    "scrolled": true
   },
   "outputs": [
    {
     "data": {
      "text/plain": [
       "InvoiceNo       object\n",
       "StockCode       object\n",
       "Description     object\n",
       "Quantity         int64\n",
       "InvoiceDate     object\n",
       "UnitPrice      float64\n",
       "CustomerID     float64\n",
       "Country         object\n",
       "dtype: object"
      ]
     },
     "execution_count": 24,
     "metadata": {},
     "output_type": "execute_result"
    }
   ],
   "source": [
    "online.dtypes"
   ]
  },
  {
   "cell_type": "markdown",
   "metadata": {},
   "source": [
    "# Tipe Data Categoric"
   ]
  },
  {
   "cell_type": "markdown",
   "metadata": {},
   "source": [
    "Tipe data `categoric` biasanya digunakan untuk menggambarkan suatu data berupa karakter terdiri dari beberapa kategori dalam satu kolom, contohnya jenis kelamin, tingkat pendidikan, nama divisi dan masih banyak lagi. Tipe data `categoric` lebih sering diterapkan pada data karakter yang berulang setiap kategorinya. Tipe data ini juga lebih memperingan komputasi ketika bekerja dengan suatu data. \n",
    "\n",
    "Beberapa hal yang bisa kita lakukan dengan tipe data `categoric` adalah :\n",
    "- mengubah nama kategori\n",
    "- mengurutkan kategori\n",
    "- menambahkan kategori\n",
    "- menghapus kategori yang ada\n",
    "- menghapus kategori yang tidak diperlukan"
   ]
  },
  {
   "cell_type": "code",
   "execution_count": 7,
   "metadata": {
    "scrolled": true
   },
   "outputs": [
    {
     "data": {
      "text/plain": [
       "InvoiceNo              object\n",
       "StockCode              object\n",
       "Description            object\n",
       "Quantity                int64\n",
       "InvoiceDate    datetime64[ns]\n",
       "UnitPrice             float64\n",
       "CustomerID            float64\n",
       "Country                object\n",
       "dtype: object"
      ]
     },
     "execution_count": 7,
     "metadata": {},
     "output_type": "execute_result"
    }
   ],
   "source": [
    "online.dtypes"
   ]
  },
  {
   "cell_type": "markdown",
   "metadata": {},
   "source": [
    "Pada data `online` yang kita miliki, terdapat beberapa kolom yang memiliki tipe data `object`. Apakah tipe data tersebut sudah sesuai jika digunakan untuk ekplorasi data selanjutnya? Jika belum, kolom apa yang harus diubah tipe datanya dan diubah ke dalam tipe data apa?"
   ]
  },
  {
   "cell_type": "code",
   "execution_count": 9,
   "metadata": {},
   "outputs": [],
   "source": [
    "# your code here\n",
    "online['Country'] = online['Country'].astype('category')"
   ]
  },
  {
   "cell_type": "markdown",
   "metadata": {},
   "source": [
    "Kita sudah memiliki satu kolom yang memiliki tipe data `categoric` yaitu kolom `Country` pada data `online`. Kita akan coba melakukan ekplorasi data dengan menggunakan kolom tersebut. "
   ]
  },
  {
   "cell_type": "code",
   "execution_count": 10,
   "metadata": {},
   "outputs": [
    {
     "data": {
      "text/plain": [
       "Index(['Australia', 'Austria', 'Bahrain', 'Belgium', 'Brazil', 'Canada',\n",
       "       'Channel Islands', 'Cyprus', 'Czech Republic', 'Denmark', 'EIRE',\n",
       "       'European Community', 'Finland', 'France', 'Germany', 'Greece',\n",
       "       'Hong Kong', 'Iceland', 'Israel', 'Italy', 'Japan', 'Lebanon',\n",
       "       'Lithuania', 'Malta', 'Netherlands', 'Norway', 'Poland', 'Portugal',\n",
       "       'RSA', 'Saudi Arabia', 'Singapore', 'Spain', 'Sweden', 'Switzerland',\n",
       "       'USA', 'United Arab Emirates', 'United Kingdom', 'Unspecified'],\n",
       "      dtype='object')"
      ]
     },
     "execution_count": 10,
     "metadata": {},
     "output_type": "execute_result"
    }
   ],
   "source": [
    "online['Country'].cat.categories"
   ]
  },
  {
   "cell_type": "code",
   "execution_count": 12,
   "metadata": {
    "scrolled": true
   },
   "outputs": [
    {
     "data": {
      "text/plain": [
       "United Kingdom          495478\n",
       "Germany                   9495\n",
       "France                    8557\n",
       "EIRE                      8196\n",
       "Spain                     2533\n",
       "Netherlands               2371\n",
       "Belgium                   2069\n",
       "Switzerland               2002\n",
       "Portugal                  1519\n",
       "Australia                 1259\n",
       "Norway                    1086\n",
       "Italy                      803\n",
       "Channel Islands            758\n",
       "Finland                    695\n",
       "Cyprus                     622\n",
       "Sweden                     462\n",
       "Unspecified                446\n",
       "Austria                    401\n",
       "Denmark                    389\n",
       "Japan                      358\n",
       "Poland                     341\n",
       "Israel                     297\n",
       "USA                        291\n",
       "Hong Kong                  288\n",
       "Singapore                  229\n",
       "Iceland                    182\n",
       "Canada                     151\n",
       "Greece                     146\n",
       "Malta                      127\n",
       "United Arab Emirates        68\n",
       "European Community          61\n",
       "RSA                         58\n",
       "Lebanon                     45\n",
       "Lithuania                   35\n",
       "Brazil                      32\n",
       "Czech Republic              30\n",
       "Bahrain                     19\n",
       "Saudi Arabia                10\n",
       "Name: Country, dtype: int64"
      ]
     },
     "execution_count": 12,
     "metadata": {},
     "output_type": "execute_result"
    }
   ],
   "source": [
    "online['Country'].value_counts()"
   ]
  },
  {
   "cell_type": "markdown",
   "metadata": {},
   "source": [
    "## Mengubah nama kategori"
   ]
  },
  {
   "cell_type": "code",
   "execution_count": 13,
   "metadata": {},
   "outputs": [
    {
     "data": {
      "text/plain": [
       "0         United Kingdom(UK)\n",
       "1         United Kingdom(UK)\n",
       "2         United Kingdom(UK)\n",
       "3         United Kingdom(UK)\n",
       "4         United Kingdom(UK)\n",
       "                 ...        \n",
       "541904                France\n",
       "541905                France\n",
       "541906                France\n",
       "541907                France\n",
       "541908                France\n",
       "Name: Country, Length: 541909, dtype: category\n",
       "Categories (38, object): [Australia, Austria, Bahrain, Belgium, ..., USA, United Arab Emirates, United Kingdom(UK), Unspecified]"
      ]
     },
     "execution_count": 13,
     "metadata": {},
     "output_type": "execute_result"
    }
   ],
   "source": [
    "online['Country'].cat.rename_categories(\n",
    "{\n",
    "    'United Kingdom' : 'United Kingdom(UK)'\n",
    "})"
   ]
  },
  {
   "cell_type": "markdown",
   "metadata": {},
   "source": [
    "## Mengurutkan kategori"
   ]
  },
  {
   "cell_type": "code",
   "execution_count": 17,
   "metadata": {},
   "outputs": [
    {
     "data": {
      "text/plain": [
       "0         United Kingdom\n",
       "1         United Kingdom\n",
       "2         United Kingdom\n",
       "3         United Kingdom\n",
       "4         United Kingdom\n",
       "               ...      \n",
       "541904            France\n",
       "541905            France\n",
       "541906            France\n",
       "541907            France\n",
       "541908            France\n",
       "Name: Country, Length: 541909, dtype: category\n",
       "Categories (38, object): [Austria < Australia < Bahrain < Belgium ... USA < United Arab Emirates < United Kingdom < Unspecified]"
      ]
     },
     "execution_count": 17,
     "metadata": {},
     "output_type": "execute_result"
    }
   ],
   "source": [
    "online['Country'].cat.reorder_categories(['Austria','Australia','Bahrain', 'Belgium', 'Brazil', 'Canada',\n",
    "       'Channel Islands', 'Cyprus', 'Czech Republic', 'Denmark', 'EIRE',\n",
    "       'European Community', 'Finland', 'France', 'Germany', 'Greece',\n",
    "       'Hong Kong', 'Iceland', 'Israel', 'Italy', 'Japan', 'Lebanon',\n",
    "       'Lithuania', 'Malta', 'Netherlands', 'Norway', 'Poland', 'Portugal',\n",
    "       'RSA', 'Saudi Arabia', 'Singapore', 'Spain', 'Sweden', 'Switzerland',\n",
    "       'USA', 'United Arab Emirates', 'United Kingdom', 'Unspecified'],ordered = True)"
   ]
  },
  {
   "cell_type": "markdown",
   "metadata": {},
   "source": [
    "## Menambahkan kategori baru"
   ]
  },
  {
   "cell_type": "code",
   "execution_count": 15,
   "metadata": {},
   "outputs": [
    {
     "data": {
      "text/plain": [
       "0         United Kingdom\n",
       "1         United Kingdom\n",
       "2         United Kingdom\n",
       "3         United Kingdom\n",
       "4         United Kingdom\n",
       "               ...      \n",
       "541904            France\n",
       "541905            France\n",
       "541906            France\n",
       "541907            France\n",
       "541908            France\n",
       "Name: Country, Length: 541909, dtype: category\n",
       "Categories (40, object): [Australia, Austria, Bahrain, Belgium, ..., United Kingdom, Unspecified, Indonesia, Thailand]"
      ]
     },
     "execution_count": 15,
     "metadata": {},
     "output_type": "execute_result"
    }
   ],
   "source": [
    "online['Country'].cat.add_categories(['Indonesia', 'Thailand'])"
   ]
  },
  {
   "cell_type": "markdown",
   "metadata": {},
   "source": [
    "## Menghapus kategori yang ada"
   ]
  },
  {
   "cell_type": "code",
   "execution_count": 18,
   "metadata": {},
   "outputs": [
    {
     "data": {
      "text/plain": [
       "0            NaN\n",
       "1            NaN\n",
       "2            NaN\n",
       "3            NaN\n",
       "4            NaN\n",
       "           ...  \n",
       "541904    France\n",
       "541905    France\n",
       "541906    France\n",
       "541907    France\n",
       "541908    France\n",
       "Name: Country, Length: 541909, dtype: category\n",
       "Categories (37, object): [Australia, Austria, Bahrain, Belgium, ..., Switzerland, USA, United Arab Emirates, Unspecified]"
      ]
     },
     "execution_count": 18,
     "metadata": {},
     "output_type": "execute_result"
    }
   ],
   "source": [
    "online['Country'].cat.remove_categories('United Kingdom')"
   ]
  },
  {
   "cell_type": "markdown",
   "metadata": {},
   "source": [
    "## Menghapus kategori yang tidak diperlukan "
   ]
  },
  {
   "cell_type": "code",
   "execution_count": 19,
   "metadata": {},
   "outputs": [
    {
     "data": {
      "text/plain": [
       "0         United Kingdom\n",
       "1         United Kingdom\n",
       "2         United Kingdom\n",
       "3         United Kingdom\n",
       "4         United Kingdom\n",
       "               ...      \n",
       "541904            France\n",
       "541905            France\n",
       "541906            France\n",
       "541907            France\n",
       "541908            France\n",
       "Name: Country, Length: 541909, dtype: category\n",
       "Categories (38, object): [Australia, Austria, Bahrain, Belgium, ..., USA, United Arab Emirates, United Kingdom, Unspecified]"
      ]
     },
     "execution_count": 19,
     "metadata": {},
     "output_type": "execute_result"
    }
   ],
   "source": [
    "online['Country'].cat.remove_unused_categories()"
   ]
  },
  {
   "cell_type": "markdown",
   "metadata": {},
   "source": [
    "# Tipe Data Datetime "
   ]
  },
  {
   "cell_type": "code",
   "execution_count": 3,
   "metadata": {},
   "outputs": [],
   "source": [
    "online['InvoiceDate'] = pd.to_datetime(online['InvoiceDate'])"
   ]
  },
  {
   "cell_type": "code",
   "execution_count": 26,
   "metadata": {
    "scrolled": true
   },
   "outputs": [
    {
     "data": {
      "text/plain": [
       "InvoiceNo              object\n",
       "StockCode              object\n",
       "Description            object\n",
       "Quantity                int64\n",
       "InvoiceDate    datetime64[ns]\n",
       "UnitPrice             float64\n",
       "CustomerID            float64\n",
       "Country                object\n",
       "dtype: object"
      ]
     },
     "execution_count": 26,
     "metadata": {},
     "output_type": "execute_result"
    }
   ],
   "source": [
    "online.dtypes"
   ]
  },
  {
   "cell_type": "code",
   "execution_count": 6,
   "metadata": {},
   "outputs": [
    {
     "data": {
      "text/plain": [
       "0         48\n",
       "1         48\n",
       "2         48\n",
       "3         48\n",
       "4         48\n",
       "          ..\n",
       "541904    49\n",
       "541905    49\n",
       "541906    49\n",
       "541907    49\n",
       "541908    49\n",
       "Name: InvoiceDate, Length: 541909, dtype: int64"
      ]
     },
     "execution_count": 6,
     "metadata": {},
     "output_type": "execute_result"
    }
   ],
   "source": [
    "online['InvoiceDate'].dt.weekofyear"
   ]
  },
  {
   "cell_type": "code",
   "execution_count": 31,
   "metadata": {},
   "outputs": [
    {
     "data": {
      "text/plain": [
       "0         December\n",
       "1         December\n",
       "2         December\n",
       "3         December\n",
       "4         December\n",
       "            ...   \n",
       "541904    December\n",
       "541905    December\n",
       "541906    December\n",
       "541907    December\n",
       "541908    December\n",
       "Name: InvoiceDate, Length: 541909, dtype: object"
      ]
     },
     "execution_count": 31,
     "metadata": {},
     "output_type": "execute_result"
    }
   ],
   "source": [
    "online['InvoiceDate'].dt.month_name()"
   ]
  },
  {
   "cell_type": "code",
   "execution_count": 39,
   "metadata": {
    "scrolled": true
   },
   "outputs": [
    {
     "data": {
      "text/plain": [
       "['__class__',\n",
       " '__delattr__',\n",
       " '__dict__',\n",
       " '__dir__',\n",
       " '__doc__',\n",
       " '__eq__',\n",
       " '__format__',\n",
       " '__ge__',\n",
       " '__getattribute__',\n",
       " '__gt__',\n",
       " '__hash__',\n",
       " '__init__',\n",
       " '__init_subclass__',\n",
       " '__le__',\n",
       " '__lt__',\n",
       " '__module__',\n",
       " '__ne__',\n",
       " '__new__',\n",
       " '__reduce__',\n",
       " '__reduce_ex__',\n",
       " '__repr__',\n",
       " '__setattr__',\n",
       " '__sizeof__',\n",
       " '__str__',\n",
       " '__subclasshook__',\n",
       " '__weakref__',\n",
       " '_accessors',\n",
       " '_add_delegate_accessors',\n",
       " '_constructor',\n",
       " '_delegate_method',\n",
       " '_delegate_property_get',\n",
       " '_delegate_property_set',\n",
       " '_deprecations',\n",
       " '_dir_additions',\n",
       " '_dir_deletions',\n",
       " '_freeze',\n",
       " '_get_values',\n",
       " '_reset_cache',\n",
       " 'ceil',\n",
       " 'date',\n",
       " 'day',\n",
       " 'day_name',\n",
       " 'dayofweek',\n",
       " 'dayofyear',\n",
       " 'days_in_month',\n",
       " 'daysinmonth',\n",
       " 'floor',\n",
       " 'freq',\n",
       " 'hour',\n",
       " 'is_leap_year',\n",
       " 'is_month_end',\n",
       " 'is_month_start',\n",
       " 'is_quarter_end',\n",
       " 'is_quarter_start',\n",
       " 'is_year_end',\n",
       " 'is_year_start',\n",
       " 'microsecond',\n",
       " 'minute',\n",
       " 'month',\n",
       " 'month_name',\n",
       " 'nanosecond',\n",
       " 'normalize',\n",
       " 'quarter',\n",
       " 'round',\n",
       " 'second',\n",
       " 'strftime',\n",
       " 'time',\n",
       " 'timetz',\n",
       " 'to_period',\n",
       " 'to_pydatetime',\n",
       " 'tz',\n",
       " 'tz_convert',\n",
       " 'tz_localize',\n",
       " 'week',\n",
       " 'weekday',\n",
       " 'weekday_name',\n",
       " 'weekofyear',\n",
       " 'year']"
      ]
     },
     "execution_count": 39,
     "metadata": {},
     "output_type": "execute_result"
    }
   ],
   "source": [
    "online['InvoiceDate'].dt.__dir__()"
   ]
  },
  {
   "cell_type": "markdown",
   "metadata": {},
   "source": [
    "## Quiz 2"
   ]
  },
  {
   "cell_type": "markdown",
   "metadata": {},
   "source": [
    "Menggunakan data `online-retail.csv`, ubahlah tipe data pada kolom `Invoice_Date` menjadi datetime. Buatlah kolom dengan nama `month` yang berisi informasi nama bulan, kolom `period` yang berisi informasi bulan dan tahun, dan kolom `day` berisi informasi mengenai nama hari. Selanjutnya jawablah pertanyaan dibawah ini. \n",
    "\n",
    "1. Jika kita ingin mendapatkan informasi nama bulan pada kolom `Invoice_Date`, method atau atribut mana yang bisa digunakan?\n",
    "    - [ ] `.dt.dayofyear`\n",
    "    - [ ] `.dt.month`\n",
    "    - [ ] `.dt.month_name()`\n",
    "    - [ ] `.dt.month_name`\n",
    "\n",
    "---\n",
    "\n",
    "2. Jika kita ingin mendapatkan informasi berupa bulan dan tahun dalam satu informasi, manakah method yang tepat digunakan?\n",
    "    - [ ] `.dt.to_period('D')`\n",
    "    - [ ] `.dt.to_period('W')`\n",
    "    - [ ] `.dt.to_period('M')`\n",
    "    - [ ] `.dt.to_period('Q')`\n",
    "    \n",
    "---\n",
    "\n",
    "3. Untuk menampilkan nama hari dari suatu informasi datetime, atribut apa yang tepat kita gunakan?\n",
    "    - [ ] `.dt.weekday_name`\n",
    "    - [ ] `.dt.week`    \n",
    "    - [ ] `.dt.weekday`    \n",
    "    - [ ] `.dt.weekofyear`  \n"
   ]
  }
 ],
 "metadata": {
  "kernelspec": {
   "display_name": "Python 3.7.6 64-bit ('dataanalysis': conda)",
   "language": "python",
   "name": "python37664bitdataanalysisconda676c22b807a14b37b796032c72e49106"
  },
  "language_info": {
   "codemirror_mode": {
    "name": "ipython",
    "version": 3
   },
   "file_extension": ".py",
   "mimetype": "text/x-python",
   "name": "python",
   "nbconvert_exporter": "python",
   "pygments_lexer": "ipython3",
   "version": "3.7.6"
  },
  "toc": {
   "base_numbering": 1,
   "nav_menu": {},
   "number_sections": true,
   "sideBar": true,
   "skip_h1_title": false,
   "title_cell": "Table of Contents",
   "title_sidebar": "Contents",
   "toc_cell": true,
   "toc_position": {
    "height": "calc(100% - 180px)",
    "left": "10px",
    "top": "150px",
    "width": "267.667px"
   },
   "toc_section_display": true,
   "toc_window_display": true
  }
 },
 "nbformat": 4,
 "nbformat_minor": 2
}
