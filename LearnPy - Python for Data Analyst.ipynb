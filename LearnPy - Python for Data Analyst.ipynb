{
 "cells": [
  {
   "cell_type": "markdown",
   "metadata": {
    "toc": true
   },
   "source": [
    "<h1>Table of Contents<span class=\"tocSkip\"></span></h1>\n",
    "<div class=\"toc\"><ul class=\"toc-item\"><li><span><a href=\"#Pengetahuan-Dasar-Python\" data-toc-modified-id=\"Pengetahuan-Dasar-Python-1\"><span class=\"toc-item-num\">1&nbsp;&nbsp;</span>Pengetahuan Dasar Python</a></span><ul class=\"toc-item\"><li><span><a href=\"#Virtual-Environtment\" data-toc-modified-id=\"Virtual-Environtment-1.1\"><span class=\"toc-item-num\">1.1&nbsp;&nbsp;</span>Virtual Environtment</a></span></li><li><span><a href=\"#Data-Frame\" data-toc-modified-id=\"Data-Frame-1.2\"><span class=\"toc-item-num\">1.2&nbsp;&nbsp;</span>Data Frame</a></span></li><li><span><a href=\"#Tipe-tipe-Data\" data-toc-modified-id=\"Tipe-tipe-Data-1.3\"><span class=\"toc-item-num\">1.3&nbsp;&nbsp;</span>Tipe-tipe Data</a></span><ul class=\"toc-item\"><li><span><a href=\"#Quiz-1\" data-toc-modified-id=\"Quiz-1-1.3.1\"><span class=\"toc-item-num\">1.3.1&nbsp;&nbsp;</span>Quiz 1</a></span></li></ul></li></ul></li></ul></div>"
   ]
  },
  {
   "cell_type": "markdown",
   "metadata": {},
   "source": [
    "**LearnPy: Python for Data Analyst**\n",
    "\n",
    "* Author : Team Algoritma\n",
    "* Developed by [Algoritma](https://algorit.ma)'s product division and instructors team"
   ]
  },
  {
   "cell_type": "markdown",
   "metadata": {},
   "source": [
    "# Pengetahuan Dasar Python\n",
    "\n",
    "Hi *future Data Analyst*!! Pada notebook ini kita akan membahas mengenai analisis data menggunakan bahasa pemrograman Python menggunakan salah satu library yang cukup powerfull yaitu `pandas`. Namun sebelum itu kita akan membahas beberapa hal terlebih dahulu sebelum masuk ke pengenalan kita terhadap `pandas`."
   ]
  },
  {
   "cell_type": "markdown",
   "metadata": {},
   "source": [
    "## Virtual Environtment"
   ]
  },
  {
   "cell_type": "markdown",
   "metadata": {},
   "source": [
    "Virtual environtment merupakan alat yang digunakan untuk menyimpan dependensi dari suatu library atau module yang diperlukan ketika mengerjakan suatu project tertentu. Beberapa project tertentu membutuhkan dependency python yang berbeda, oleh karena itu cukup menyulitkan jika kita membuat virtual environtment. \n",
    "\n",
    "Beberapa hal yang perlu dipersiapkan dalam membuat virtual environtment yaitu:\n",
    "- sudah memiliki Anaconda Navigator/Miniconda\n",
    "- menggunakan CLI (command line interface) sebagai alat untuk membuat, memanage, dan mengaktifkan virtual environtment"
   ]
  },
  {
   "cell_type": "markdown",
   "metadata": {},
   "source": [
    "Ketika kita sudah memiliki Anaconda Navigator, biasanya tersedia CLI bawaan dari Anaconda Navigator yaitu Anaconda Prompt. "
   ]
  },
  {
   "cell_type": "markdown",
   "metadata": {},
   "source": [
    "Untuk dapat menggunakan library tersebut, kita harus melakukan import library terlebih dahulu. Untuk melakukan import library cukup menggunakan function `import`."
   ]
  },
  {
   "cell_type": "code",
   "execution_count": 2,
   "metadata": {},
   "outputs": [
    {
     "name": "stdout",
     "output_type": "stream",
     "text": [
      "0.23.0\n"
     ]
    }
   ],
   "source": [
    "import pandas as pd\n",
    "print(pd.__version__)"
   ]
  },
  {
   "cell_type": "markdown",
   "metadata": {},
   "source": [
    "## Data Frame "
   ]
  },
  {
   "cell_type": "markdown",
   "metadata": {},
   "source": [
    "Kita akan coba untuk melakukan exploratory data menggunakan data turnover suatu perusahaan. Untuk melihat datanya kita harus mengimport data turnover tersebut yang tersimpan dengan nama file `turnover_balance.csv`. Data ini menunjukkan suatu record history karyawan pada perusahaan tertentu yang mengalami turnover berdasarkan beberapa atribut-atribut penunjangnya yaitu `satisfaction_level`, `last_evaluation`, `number_project`, `average_monthly_hours`, `time_spend_company`, `Work_accident`, `promotion_last_5years`, `division`, dan `salary`. Berikut data turnover tersebut :"
   ]
  },
  {
   "cell_type": "code",
   "execution_count": 3,
   "metadata": {
    "scrolled": true
   },
   "outputs": [
    {
     "data": {
      "text/html": [
       "<div>\n",
       "<style scoped>\n",
       "    .dataframe tbody tr th:only-of-type {\n",
       "        vertical-align: middle;\n",
       "    }\n",
       "\n",
       "    .dataframe tbody tr th {\n",
       "        vertical-align: top;\n",
       "    }\n",
       "\n",
       "    .dataframe thead th {\n",
       "        text-align: right;\n",
       "    }\n",
       "</style>\n",
       "<table border=\"1\" class=\"dataframe\">\n",
       "  <thead>\n",
       "    <tr style=\"text-align: right;\">\n",
       "      <th></th>\n",
       "      <th>satisfaction_level</th>\n",
       "      <th>last_evaluation</th>\n",
       "      <th>number_project</th>\n",
       "      <th>average_montly_hours</th>\n",
       "      <th>time_spend_company</th>\n",
       "      <th>Work_accident</th>\n",
       "      <th>promotion_last_5years</th>\n",
       "      <th>division</th>\n",
       "      <th>salary</th>\n",
       "      <th>left</th>\n",
       "    </tr>\n",
       "  </thead>\n",
       "  <tbody>\n",
       "    <tr>\n",
       "      <th>0</th>\n",
       "      <td>0.82</td>\n",
       "      <td>0.68</td>\n",
       "      <td>3</td>\n",
       "      <td>140</td>\n",
       "      <td>2</td>\n",
       "      <td>0</td>\n",
       "      <td>0</td>\n",
       "      <td>sales</td>\n",
       "      <td>low</td>\n",
       "      <td>0</td>\n",
       "    </tr>\n",
       "    <tr>\n",
       "      <th>1</th>\n",
       "      <td>0.79</td>\n",
       "      <td>0.67</td>\n",
       "      <td>5</td>\n",
       "      <td>156</td>\n",
       "      <td>2</td>\n",
       "      <td>0</td>\n",
       "      <td>0</td>\n",
       "      <td>product_mng</td>\n",
       "      <td>low</td>\n",
       "      <td>0</td>\n",
       "    </tr>\n",
       "    <tr>\n",
       "      <th>2</th>\n",
       "      <td>0.73</td>\n",
       "      <td>0.95</td>\n",
       "      <td>3</td>\n",
       "      <td>149</td>\n",
       "      <td>2</td>\n",
       "      <td>0</td>\n",
       "      <td>0</td>\n",
       "      <td>support</td>\n",
       "      <td>low</td>\n",
       "      <td>0</td>\n",
       "    </tr>\n",
       "    <tr>\n",
       "      <th>3</th>\n",
       "      <td>0.92</td>\n",
       "      <td>0.78</td>\n",
       "      <td>3</td>\n",
       "      <td>218</td>\n",
       "      <td>3</td>\n",
       "      <td>0</td>\n",
       "      <td>0</td>\n",
       "      <td>technical</td>\n",
       "      <td>low</td>\n",
       "      <td>0</td>\n",
       "    </tr>\n",
       "    <tr>\n",
       "      <th>4</th>\n",
       "      <td>0.69</td>\n",
       "      <td>1.00</td>\n",
       "      <td>5</td>\n",
       "      <td>237</td>\n",
       "      <td>3</td>\n",
       "      <td>0</td>\n",
       "      <td>0</td>\n",
       "      <td>technical</td>\n",
       "      <td>high</td>\n",
       "      <td>0</td>\n",
       "    </tr>\n",
       "  </tbody>\n",
       "</table>\n",
       "</div>"
      ],
      "text/plain": [
       "   satisfaction_level  last_evaluation  number_project  average_montly_hours  \\\n",
       "0                0.82             0.68               3                   140   \n",
       "1                0.79             0.67               5                   156   \n",
       "2                0.73             0.95               3                   149   \n",
       "3                0.92             0.78               3                   218   \n",
       "4                0.69             1.00               5                   237   \n",
       "\n",
       "   time_spend_company  Work_accident  promotion_last_5years     division  \\\n",
       "0                   2              0                      0        sales   \n",
       "1                   2              0                      0  product_mng   \n",
       "2                   2              0                      0      support   \n",
       "3                   3              0                      0    technical   \n",
       "4                   3              0                      0    technical   \n",
       "\n",
       "  salary  left  \n",
       "0    low     0  \n",
       "1    low     0  \n",
       "2    low     0  \n",
       "3    low     0  \n",
       "4   high     0  "
      ]
     },
     "execution_count": 3,
     "metadata": {},
     "output_type": "execute_result"
    }
   ],
   "source": [
    "turnover = pd.read_csv(\"data_input/turnover_balance.csv\")\n",
    "turnover.head()"
   ]
  },
  {
   "cell_type": "markdown",
   "metadata": {},
   "source": [
    "Berdasarkan data `turnover` diatas, berikut ini adalah glimpse dari setiap variabelnya :\n",
    "\n",
    "* `satisfaction_level` : tingkat kepuasan karyawan bekerja di suatu perusahaan\n",
    "* `last_evaluation` : tingkat kepuasan karyawan pada evaluasi terakhir\n",
    "* `number_project` : banyaknya project yang telah diterima karyawan\n",
    "* `average_monthly_hours` : rata-rata jam kerja per bulan\n",
    "* `time_spend_company` : lama waktu bekerja dalam perusahaan (tahun)\n",
    "* `Work_accident` : ada tidaknya kecelakaan kerja, 0 = tidak ada, 1 = ada\n",
    "* `promotion_last_5years` : pernah mendapatkan promoksi dalam 5 tahun terakhir, 0 = tidak, 1 = ya\n",
    "* `division` : nama departemen atau divisi\n",
    "* `salary` : tingkat pendapatan, dibagi menjadi low, medium dan high\n",
    "* `left` : data history karyawan resign, 0 = tidak, 1 = ya"
   ]
  },
  {
   "cell_type": "markdown",
   "metadata": {},
   "source": [
    "Sebelum melangkah pada hal-hal yang rumit, kita akan coba untuk mengulik dari hal yang sederhana terlebih dahulu."
   ]
  },
  {
   "cell_type": "markdown",
   "metadata": {},
   "source": [
    "## Tipe-tipe Data "
   ]
  },
  {
   "cell_type": "markdown",
   "metadata": {},
   "source": [
    "Sebagai seorang data analyst, kita harus mengetahui terlebih dahulu tipe-tipe data yang akan kita analisis. Pada Python, ketika kita bekerja menggunakan library `pandas` untuk melakukan pengecekan tipe data pada data yang digunakan, kita bisa menggunakan `dtypes`. Nilai yang akan dikeluarkan oleh `dtypes` adalah sebuah series yang berisi tipe data setiap variabel pada suatu data frame."
   ]
  },
  {
   "cell_type": "code",
   "execution_count": 4,
   "metadata": {},
   "outputs": [
    {
     "data": {
      "text/plain": [
       "satisfaction_level       float64\n",
       "last_evaluation          float64\n",
       "number_project             int64\n",
       "average_montly_hours       int64\n",
       "time_spend_company         int64\n",
       "Work_accident              int64\n",
       "promotion_last_5years      int64\n",
       "division                  object\n",
       "salary                    object\n",
       "left                       int64\n",
       "dtype: object"
      ]
     },
     "execution_count": 4,
     "metadata": {},
     "output_type": "execute_result"
    }
   ],
   "source": [
    "turnover.dtypes"
   ]
  },
  {
   "cell_type": "markdown",
   "metadata": {},
   "source": [
    "Tipe-tipe data yang terdapat pada Python umumnya adalah:\n",
    "\n",
    "* **float** : tipe data yang berisi angka kontinu\n",
    "* **int** : tipe data yang berisi angka bulat\n",
    "* **object** : tipe data yang berisi alphabetic, seperti nama, alamat, dst\n",
    "* **bool** : tipe data yang berisi TRUE atau FALSE\n",
    "* **str** : tipe data yang berisi text"
   ]
  },
  {
   "cell_type": "markdown",
   "metadata": {},
   "source": [
    "Sebagai data analyst, berdasarkan data yang kita miliki, kita ingin mencoba mencari tahu berapa besar rata-rata jam kerja bulanan. Untuk mengetahui nilai rata-rata pada suatu series bisa menggunakan `.mean()`."
   ]
  },
  {
   "cell_type": "code",
   "execution_count": 5,
   "metadata": {},
   "outputs": [
    {
     "data": {
      "text/plain": [
       "203.36614393727248"
      ]
     },
     "execution_count": 5,
     "metadata": {},
     "output_type": "execute_result"
    }
   ],
   "source": [
    "turnover[\"average_montly_hours\"].mean()"
   ]
  },
  {
   "cell_type": "markdown",
   "metadata": {},
   "source": [
    "Berdasarkan data yang ada, diketahui bahwa rata-rata pekerja yang ada yaitu sebesar 203 jam per bulan. Atau jika dikonversikan ke dalam hari yaitu rata-rata jam kerjanya sebesar 10 jam per hari."
   ]
  },
  {
   "cell_type": "code",
   "execution_count": 6,
   "metadata": {},
   "outputs": [
    {
     "data": {
      "text/plain": [
       "3.6160739288714647"
      ]
     },
     "execution_count": 6,
     "metadata": {},
     "output_type": "execute_result"
    }
   ],
   "source": [
    "turnover[\"time_spend_company\"].mean()"
   ]
  },
  {
   "cell_type": "markdown",
   "metadata": {},
   "source": [
    "Berdasarkan data yang ada, diketahui bahwa rata-rata lama bekerja dalam suatu perusahaan yaitu 3.6 tahun. "
   ]
  },
  {
   "cell_type": "markdown",
   "metadata": {},
   "source": []
  },
  {
   "cell_type": "markdown",
   "metadata": {},
   "source": [
    "Dalam beberapa kondisi, tipe data pada suatu kolom atau variabel sangatlah penting untuk diperhatikan. Hal ini akan mempermudah seorang data analyst mengetahui data apa yang sedang dia kerjakan. Selain itu juga ketika akan membuat suatu report, variabel tertentu dapat diinterpretasikan dengan baik menggunakan pengukuran statistik ataupun berupa visualisasi. Oleh karena itu, ketika tipe data dalam data frame ada yang tidak sesuai, kita perlu menyesuaikan agar data dapat direpresentasikan dengan baik. "
   ]
  },
  {
   "cell_type": "markdown",
   "metadata": {},
   "source": [
    "Pada course material, telah dibahas bagaimana mengubah tipe data pada suatu data frame. Untuk melakukan perubahan tipe data, kita bisa menggunakan fungsi `astype()` pada kolom yang ingin kita ubah."
   ]
  },
  {
   "cell_type": "markdown",
   "metadata": {},
   "source": [
    "**Knowledge check:**\n",
    "\n",
    "Sebelum kita akan mengalisis kolom manakah yang belum sesuai, kita cek terlebih dahulu tipe data dari masing-masing kolom pada object `turnover` yang kita miliki."
   ]
  },
  {
   "cell_type": "code",
   "execution_count": null,
   "metadata": {},
   "outputs": [],
   "source": [
    "## your code here\n"
   ]
  },
  {
   "cell_type": "markdown",
   "metadata": {},
   "source": [
    "**Latihan!**\n",
    "\n",
    "Jika kita perhatikan berdasarkan gloosary dari masing-masing kolom pada data `turnover` dan tipe datanya, bisakah Anda temukan kolom mana saja yang harus diubah dalam bentuk `category`? \n",
    "\n",
    "Jika sudah menemukannya, Anda dapat mengubahnya menggunakan fungsi `astype('category')` dan jangan lupa simpan kembali agar data `turnover` sudah memiliki tipe data yang tepat untuk masing-masing kolomnya."
   ]
  },
  {
   "cell_type": "code",
   "execution_count": 7,
   "metadata": {},
   "outputs": [],
   "source": [
    "## your code here\n"
   ]
  },
  {
   "cell_type": "markdown",
   "metadata": {},
   "source": [
    "### Quiz 1"
   ]
  },
  {
   "cell_type": "markdown",
   "metadata": {},
   "source": [
    "Jika diketahui data sebagai berikut."
   ]
  },
  {
   "cell_type": "code",
   "execution_count": 11,
   "metadata": {},
   "outputs": [
    {
     "data": {
      "text/html": [
       "<div>\n",
       "<style scoped>\n",
       "    .dataframe tbody tr th:only-of-type {\n",
       "        vertical-align: middle;\n",
       "    }\n",
       "\n",
       "    .dataframe tbody tr th {\n",
       "        vertical-align: top;\n",
       "    }\n",
       "\n",
       "    .dataframe thead th {\n",
       "        text-align: right;\n",
       "    }\n",
       "</style>\n",
       "<table border=\"1\" class=\"dataframe\">\n",
       "  <thead>\n",
       "    <tr style=\"text-align: right;\">\n",
       "      <th></th>\n",
       "      <th>jenis</th>\n",
       "      <th>warna</th>\n",
       "      <th>harga</th>\n",
       "      <th>diskon</th>\n",
       "      <th>stok</th>\n",
       "      <th>penjualan_mingguan</th>\n",
       "    </tr>\n",
       "  </thead>\n",
       "  <tbody>\n",
       "    <tr>\n",
       "      <th>0</th>\n",
       "      <td>Sepatu</td>\n",
       "      <td>Hitam</td>\n",
       "      <td>1300000</td>\n",
       "      <td>0.2</td>\n",
       "      <td>59</td>\n",
       "      <td>6</td>\n",
       "    </tr>\n",
       "    <tr>\n",
       "      <th>1</th>\n",
       "      <td>Sandal</td>\n",
       "      <td>Merah</td>\n",
       "      <td>56000</td>\n",
       "      <td>0.0</td>\n",
       "      <td>100</td>\n",
       "      <td>50</td>\n",
       "    </tr>\n",
       "    <tr>\n",
       "      <th>2</th>\n",
       "      <td>Baju</td>\n",
       "      <td>Biru</td>\n",
       "      <td>85000</td>\n",
       "      <td>0.0</td>\n",
       "      <td>200</td>\n",
       "      <td>150</td>\n",
       "    </tr>\n",
       "    <tr>\n",
       "      <th>3</th>\n",
       "      <td>Tas</td>\n",
       "      <td>Pink</td>\n",
       "      <td>100000</td>\n",
       "      <td>0.1</td>\n",
       "      <td>50</td>\n",
       "      <td>40</td>\n",
       "    </tr>\n",
       "  </tbody>\n",
       "</table>\n",
       "</div>"
      ],
      "text/plain": [
       "    jenis  warna    harga  diskon  stok  penjualan_mingguan\n",
       "0  Sepatu  Hitam  1300000     0.2    59                   6\n",
       "1  Sandal  Merah    56000     0.0   100                  50\n",
       "2    Baju   Biru    85000     0.0   200                 150\n",
       "3     Tas   Pink   100000     0.1    50                  40"
      ]
     },
     "execution_count": 11,
     "metadata": {},
     "output_type": "execute_result"
    }
   ],
   "source": [
    "toko = pd.DataFrame({\n",
    "    'jenis' : ['Sepatu', 'Sandal', 'Baju', 'Tas'],\n",
    "    'warna' : ['Hitam', 'Merah', 'Biru', 'Pink'],\n",
    "    'harga' : [1300000, 56000, 85000, 100000],\n",
    "    'diskon' : [0.2, 0, 0, 0.1],\n",
    "    'stok' : [59, 100, 200, 50],\n",
    "    'penjualan_mingguan' : [6, 50, 150, 40]\n",
    "})\n",
    "toko"
   ]
  },
  {
   "cell_type": "markdown",
   "metadata": {},
   "source": [
    "1. Jika Fafilia adalah seorang data analyst pada toko tersebuut, dia diminta untuk melakukan analisis terhadap data toko tersebut. Manakah dari kolom yang tersedia termasuk `category` atau `object`?\n",
    "\n",
    "    - [ ] jenis dan harga\n",
    "    - [ ] warna dan stok\n",
    "    - [ ] jenis dan warna\n",
    "    - [ ] warna dan diskon"
   ]
  },
  {
   "cell_type": "markdown",
   "metadata": {},
   "source": [
    "2. Manakah kolom yang termasuk `integer`?\n",
    "\n",
    "    - [ ] diskon\n",
    "    - [ ] stok\n",
    "    - [ ] jenis\n",
    "    - [ ] warna"
   ]
  },
  {
   "cell_type": "markdown",
   "metadata": {},
   "source": [
    "3. Jika Fafilia diminta untuk melakukan rekap penjualan mingguan dari seluruh barang yang dijual, berapakah rata-rata penjualan mingguannya?\n",
    "\n",
    "    - [ ] 50\n",
    "    - [ ] 68.9\n",
    "    - [ ] 78.5\n",
    "    - [ ] 61.5"
   ]
  },
  {
   "cell_type": "markdown",
   "metadata": {},
   "source": [
    "# "
   ]
  }
 ],
 "metadata": {
  "kernelspec": {
   "display_name": "Python 3.7.6 64-bit ('dataanalysis': conda)",
   "language": "python",
   "name": "python37664bitdataanalysisconda676c22b807a14b37b796032c72e49106"
  },
  "language_info": {
   "codemirror_mode": {
    "name": "ipython",
    "version": 3
   },
   "file_extension": ".py",
   "mimetype": "text/x-python",
   "name": "python",
   "nbconvert_exporter": "python",
   "pygments_lexer": "ipython3",
   "version": "3.7.6"
  },
  "toc": {
   "base_numbering": 1,
   "nav_menu": {},
   "number_sections": true,
   "sideBar": true,
   "skip_h1_title": false,
   "title_cell": "Table of Contents",
   "title_sidebar": "Contents",
   "toc_cell": true,
   "toc_position": {},
   "toc_section_display": true,
   "toc_window_display": true
  }
 },
 "nbformat": 4,
 "nbformat_minor": 4
}
